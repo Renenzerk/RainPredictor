{
 "cells": [
  {
   "cell_type": "markdown",
   "metadata": {
    "id": "toYb96XlkmiQ"
   },
   "source": [
    "# A Rain Predictor"
   ]
  },
  {
   "cell_type": "markdown",
   "metadata": {
    "id": "jQTgaQm4kviR"
   },
   "source": [
    "A Rain Predictor model has been trained below by applying Logistic Regression from scratch using weather dataset of various cities of Australia.\n",
    "\n",
    "Let's dig into the model!"
   ]
  },
  {
   "cell_type": "markdown",
   "metadata": {
    "id": "-BRj26nGlPzi"
   },
   "source": [
    "Begin with importing required python libraries"
   ]
  },
  {
   "cell_type": "code",
   "execution_count": 31,
   "metadata": {
    "id": "3RWnjo7gvg_m"
   },
   "outputs": [],
   "source": [
    "import numpy as np\n",
    "import pandas as pd\n",
    "import matplotlib.pyplot as plt\n",
    "from sklearn.preprocessing import StandardScaler\n",
    "from sklearn.model_selection import train_test_split"
   ]
  },
  {
   "cell_type": "code",
   "execution_count": 32,
   "metadata": {
    "colab": {
     "base_uri": "https://localhost:8080/",
     "height": 141
    },
    "id": "hbSg4y3BvviS",
    "outputId": "a8906c66-7a87-4e50-945f-1e3525d1b9b1"
   },
   "outputs": [],
   "source": [
    "weather=pd.read_csv('weatherAUS.csv')  #loading dataset using read_csv() function of pandas"
   ]
  },
  {
   "cell_type": "code",
   "execution_count": 33,
   "metadata": {
    "colab": {
     "base_uri": "https://localhost:8080/"
    },
    "id": "46KcnQ3xw5XI",
    "outputId": "2c9ed1f6-0069-4f61-cfeb-a3dad5099d3e"
   },
   "outputs": [
    {
     "name": "stdout",
     "output_type": "stream",
     "text": [
      "<class 'pandas.core.frame.DataFrame'>\n",
      "RangeIndex: 145460 entries, 0 to 145459\n",
      "Data columns (total 23 columns):\n",
      " #   Column         Non-Null Count   Dtype  \n",
      "---  ------         --------------   -----  \n",
      " 0   Date           145460 non-null  object \n",
      " 1   Location       145460 non-null  object \n",
      " 2   MinTemp        143975 non-null  float64\n",
      " 3   MaxTemp        144199 non-null  float64\n",
      " 4   Rainfall       142199 non-null  float64\n",
      " 5   Evaporation    82670 non-null   float64\n",
      " 6   Sunshine       75625 non-null   float64\n",
      " 7   WindGustDir    135134 non-null  object \n",
      " 8   WindGustSpeed  135197 non-null  float64\n",
      " 9   WindDir9am     134894 non-null  object \n",
      " 10  WindDir3pm     141232 non-null  object \n",
      " 11  WindSpeed9am   143693 non-null  float64\n",
      " 12  WindSpeed3pm   142398 non-null  float64\n",
      " 13  Humidity9am    142806 non-null  float64\n",
      " 14  Humidity3pm    140953 non-null  float64\n",
      " 15  Pressure9am    130395 non-null  float64\n",
      " 16  Pressure3pm    130432 non-null  float64\n",
      " 17  Cloud9am       89572 non-null   float64\n",
      " 18  Cloud3pm       86102 non-null   float64\n",
      " 19  Temp9am        143693 non-null  float64\n",
      " 20  Temp3pm        141851 non-null  float64\n",
      " 21  RainToday      142199 non-null  object \n",
      " 22  RainTomorrow   142193 non-null  object \n",
      "dtypes: float64(16), object(7)\n",
      "memory usage: 25.5+ MB\n"
     ]
    }
   ],
   "source": [
    "weather.info()"
   ]
  },
  {
   "cell_type": "code",
   "execution_count": 34,
   "metadata": {
    "colab": {
     "base_uri": "https://localhost:8080/"
    },
    "id": "h9sXLmGVw7Ih",
    "outputId": "692d4256-fcd8-4fd2-8fce-b85b6caaac09"
   },
   "outputs": [
    {
     "data": {
      "text/plain": [
       "Date                 0\n",
       "Location             0\n",
       "MinTemp           1485\n",
       "MaxTemp           1261\n",
       "Rainfall          3261\n",
       "Evaporation      62790\n",
       "Sunshine         69835\n",
       "WindGustDir      10326\n",
       "WindGustSpeed    10263\n",
       "WindDir9am       10566\n",
       "WindDir3pm        4228\n",
       "WindSpeed9am      1767\n",
       "WindSpeed3pm      3062\n",
       "Humidity9am       2654\n",
       "Humidity3pm       4507\n",
       "Pressure9am      15065\n",
       "Pressure3pm      15028\n",
       "Cloud9am         55888\n",
       "Cloud3pm         59358\n",
       "Temp9am           1767\n",
       "Temp3pm           3609\n",
       "RainToday         3261\n",
       "RainTomorrow      3267\n",
       "dtype: int64"
      ]
     },
     "execution_count": 34,
     "metadata": {},
     "output_type": "execute_result"
    }
   ],
   "source": [
    "weather.isnull().sum() #shows number of null entries in each column"
   ]
  },
  {
   "cell_type": "markdown",
   "metadata": {
    "id": "c_RMipEkluNR"
   },
   "source": [
    "We can see that there are some null entries in many of the columns.\n",
    "\n",
    "In many cases these can be ignored but not for some important keys like ['Rainfall','RainToday','RainTomorrow']"
   ]
  },
  {
   "cell_type": "code",
   "execution_count": 35,
   "metadata": {
    "id": "oP-KTvY2xBQ7"
   },
   "outputs": [],
   "source": [
    "weather=weather.dropna(subset=['Rainfall','RainToday','RainTomorrow']) #drop rows with null entries"
   ]
  },
  {
   "cell_type": "code",
   "execution_count": 36,
   "metadata": {
    "id": "zwhXI-BVzgOr"
   },
   "outputs": [],
   "source": [
    "weather['Date']=pd.to_datetime(weather['Date']) #Convert Date into format interpretable by dataframe"
   ]
  },
  {
   "cell_type": "markdown",
   "metadata": {
    "id": "omSozmbJoqDl"
   },
   "source": [
    "We can now easily extract day,month and year.\n",
    "\n",
    "But for predicting rain month is the most important feature and there isn't any significant contribution from day and year."
   ]
  },
  {
   "cell_type": "code",
   "execution_count": 37,
   "metadata": {
    "id": "i0y7tpE1z4yU"
   },
   "outputs": [],
   "source": [
    "# weather['Year'] = weather['Date'].dt.year\n",
    "weather['Month'] = weather['Date'].dt.month   #extracting month\n",
    "# weather['Day'] = weather['Date'].dt.day"
   ]
  },
  {
   "cell_type": "code",
   "execution_count": 38,
   "metadata": {
    "id": "dVXD6LEpz90P"
   },
   "outputs": [],
   "source": [
    "# Convert Yes,No to binary labels\n",
    "weather['RainTomorrow']=weather['RainTomorrow'].map({'Yes':1 ,'No':0})\n",
    "weather['RainToday']=weather['RainToday'].map({'Yes':1 ,'No':0})"
   ]
  },
  {
   "cell_type": "code",
   "execution_count": 39,
   "metadata": {
    "id": "8mwwT6XZ2a9R"
   },
   "outputs": [],
   "source": [
    "df=weather.drop(['WindGustDir','Date','WindDir9am','WindDir3pm'],axis=1)"
   ]
  },
  {
   "cell_type": "code",
   "execution_count": 40,
   "metadata": {
    "id": "uOVOid1z3h-N"
   },
   "outputs": [],
   "source": [
    "from sklearn.preprocessing import LabelEncoder\n",
    "df['Location']=LabelEncoder().fit_transform(weather['Location'])\n",
    "\n",
    "# Label encoder provides categorical values to locations"
   ]
  },
  {
   "cell_type": "code",
   "execution_count": 41,
   "metadata": {
    "colab": {
     "base_uri": "https://localhost:8080/",
     "height": 141
    },
    "id": "jPJGF0l41a4C",
    "outputId": "28b17709-b54d-40b0-8428-1bee6ef9707b"
   },
   "outputs": [],
   "source": [
    "df=df.fillna(0) #fill null values with zeros"
   ]
  },
  {
   "cell_type": "markdown",
   "metadata": {
    "id": "ig0cb32CspN1"
   },
   "source": [
    "Rain tommorow is our actual target variable(Y)"
   ]
  },
  {
   "cell_type": "code",
   "execution_count": 42,
   "metadata": {
    "colab": {
     "base_uri": "https://localhost:8080/"
    },
    "id": "dOT9ADw39ae9",
    "outputId": "3e18f39d-3a42-4e5b-dc05-5a2873b000a3"
   },
   "outputs": [
    {
     "name": "stdout",
     "output_type": "stream",
     "text": [
      "(140787, 1)\n"
     ]
    }
   ],
   "source": [
    "Y=(df['RainTomorrow'].to_numpy()).reshape(-1,1) #extracting target variable\n",
    "print(Y.shape)"
   ]
  },
  {
   "cell_type": "code",
   "execution_count": 43,
   "metadata": {
    "id": "yfDTi2dv7j2F"
   },
   "outputs": [],
   "source": [
    "df=df.drop('RainTomorrow',axis=1)"
   ]
  },
  {
   "cell_type": "code",
   "execution_count": 44,
   "metadata": {
    "id": "RmUVva5i8W5l"
   },
   "outputs": [],
   "source": [
    "final=df.to_numpy() #convert dataframe to numpy array"
   ]
  },
  {
   "cell_type": "markdown",
   "metadata": {
    "id": "h181eGQWzNBJ"
   },
   "source": [
    "# Data Preprocessing"
   ]
  },
  {
   "cell_type": "code",
   "execution_count": 58,
   "metadata": {
    "id": "oSyYcBcj9Nc_"
   },
   "outputs": [
    {
     "name": "stdout",
     "output_type": "stream",
     "text": [
      "No of training examples: 119668\n",
      "No of test examples: 21119\n",
      "No of features: 19\n"
     ]
    }
   ],
   "source": [
    "x_train,x_test,y_train,y_test=train_test_split(final,Y,train_size=0.85)\n",
    "print('No of training examples:',x_train.shape[0])\n",
    "print('No of test examples:',x_test.shape[0])\n",
    "print('No of features:',x_train.shape[1])"
   ]
  },
  {
   "cell_type": "markdown",
   "metadata": {},
   "source": [
    "Due to varying range of values different features take, feature scaling is a very important step"
   ]
  },
  {
   "cell_type": "code",
   "execution_count": 59,
   "metadata": {
    "id": "V-VcfOKW-iZS"
   },
   "outputs": [],
   "source": [
    "# perform feature scaling for better results\n",
    "# I have used standard min-max scalar which scales down all values to the range -1 to 1\n",
    "sc = StandardScaler()\n",
    "x_train = sc.fit_transform(x_train)\n",
    "x_test = sc.transform(x_test)\n",
    "\n",
    "# u=(np.sum(x_train,axis=1)/x_train.shape[1]).reshape(19,1)\n",
    "# x_train=x_train-u\n",
    "# YOU CAN ALSO PERFORM NORMALISATION BUT IT WILL NOT AFFECT THE MODEL'S PERFORMANCE MUCH\n",
    "# with normalization, test accuracy around 81.97\n",
    "# without normalization,test accuracy around 82.2 "
   ]
  },
  {
   "cell_type": "markdown",
   "metadata": {},
   "source": [
    "But, without feature scaling model won't even work!"
   ]
  },
  {
   "cell_type": "code",
   "execution_count": 60,
   "metadata": {
    "id": "CbyE3WqgH5R8"
   },
   "outputs": [],
   "source": [
    "# Reshape input x so that rows represent features and columns represent training examples\n",
    "x_train=x_train.T\n",
    "x_test=x_test.T\n",
    "# Reshape output y to align with input's shape\n",
    "y_train=y_train.reshape(1,-1)\n",
    "y_test=y_test.reshape(1,-1)"
   ]
  },
  {
   "cell_type": "code",
   "execution_count": 61,
   "metadata": {
    "colab": {
     "base_uri": "https://localhost:8080/"
    },
    "id": "SJLZe3MfIU7l",
    "outputId": "f418f0b9-65c2-497e-95a7-04c7938090d6"
   },
   "outputs": [
    {
     "name": "stdout",
     "output_type": "stream",
     "text": [
      "(19, 119668)\n",
      "(1, 119668)\n"
     ]
    }
   ],
   "source": [
    "print(x_train.shape)\n",
    "print(y_train.shape)"
   ]
  },
  {
   "cell_type": "markdown",
   "metadata": {
    "id": "qcsyw99pu0Ut"
   },
   "source": [
    "# Model building\n"
   ]
  },
  {
   "cell_type": "markdown",
   "metadata": {
    "id": "Iap7POfNu36O"
   },
   "source": [
    "Great!\n",
    "\n",
    "We have our data ready to be fitted in the model.\n",
    "\n",
    "Now, let's build the model"
   ]
  },
  {
   "cell_type": "code",
   "execution_count": 62,
   "metadata": {
    "id": "OOgGM2Vw_Kb1"
   },
   "outputs": [],
   "source": [
    "# sigmoid activation function for logistic regression\n",
    "def sigmoid(z):\n",
    "  return 1/(1+np.exp(-z))"
   ]
  },
  {
   "cell_type": "code",
   "execution_count": 63,
   "metadata": {
    "id": "XLUQO4Ot_V_n"
   },
   "outputs": [],
   "source": [
    "# initializing parameters\n",
    "def initialize_parameters(dim):\n",
    "  w=np.zeros((dim,1))\n",
    "  b=0\n",
    "  return w,b"
   ]
  },
  {
   "cell_type": "code",
   "execution_count": 64,
   "metadata": {
    "id": "UsspAh8Q_YHd"
   },
   "outputs": [],
   "source": [
    "def propagate(w,b,x,y):\n",
    "  m=x.shape[1]  #no of training examples\n",
    "  z=np.dot(w.T,x)+b\n",
    "  a=sigmoid(z)\n",
    "  dw=(np.dot(x,(a-y).T))/m  #gradient of parameter w\n",
    "  db=(np.sum(a-y))/m  #gradient of parameter b\n",
    "  cost=np.sum((-np.log(a))*y+(-np.log(1-a))*(1-y))/m #cost function for logistic regression\n",
    "  cost=np.squeeze(cost)\n",
    "  assert(dw.shape==w.shape)\n",
    "  assert(cost.shape==())\n",
    "  return dw,db,cost\n"
   ]
  },
  {
   "cell_type": "code",
   "execution_count": 65,
   "metadata": {
    "id": "HUYdE28B_ZTH"
   },
   "outputs": [],
   "source": [
    "# apply gradient descent to minimize the above defined cost function\n",
    "def optimize(w,b,x,y,e,alpha):\n",
    "  costs=[]\n",
    "  for i in range(e):\n",
    "    dw,db,cost=propagate(w,b,x,y)\n",
    "    tw=w-(alpha*dw)\n",
    "    tb=b-(alpha*db)\n",
    "    w=tw\n",
    "    b=tb\n",
    "    if i%20==0:\n",
    "      costs.append(cost)\n",
    "      print(cost)\n",
    "  return w,b,costs,dw,db\n"
   ]
  },
  {
   "cell_type": "code",
   "execution_count": 66,
   "metadata": {
    "id": "u-dlLDEw_a7z"
   },
   "outputs": [],
   "source": [
    "# make predictions\n",
    "def predict(w,b,x):\n",
    "  m=x.shape[1]\n",
    "  a=sigmoid(np.dot(w.T,x)+b)\n",
    "  y=np.zeros((1,m))\n",
    "  y=(a>=0.5)\n",
    "  assert(y.shape==(1,m))\n",
    "  return y"
   ]
  },
  {
   "cell_type": "code",
   "execution_count": 67,
   "metadata": {
    "id": "HWMk7zRu_cdB"
   },
   "outputs": [],
   "source": [
    "# combine the above functions to train the model\n",
    "def model(x_train,y_train,x_test,y_test,e,alpha):\n",
    "  dim=x_train.shape[0]\n",
    "  w,b=initialize_parameters(dim)\n",
    "  w,b,costs,dw,db=optimize(w,b,x_train,y_train,e,alpha)\n",
    "  y_predict_train=predict(w,b,x_train)\n",
    "  y_predict_test=predict(w,b,x_test)\n",
    "  print(\"Train accuracy:\",100-np.mean(np.abs(y_predict_train-y_train))*100)\n",
    "  print(\"Test accuracy:\",100-np.mean(np.abs(y_predict_test-y_test))*100)\n",
    "  return y_predict_train,y_predict_test,costs,w,b\n",
    "\n"
   ]
  },
  {
   "cell_type": "code",
   "execution_count": 70,
   "metadata": {
    "colab": {
     "base_uri": "https://localhost:8080/"
    },
    "id": "x_qgHLpt_e3Q",
    "outputId": "b7f6d1dc-512d-466c-8a0f-20be0a38dcbc"
   },
   "outputs": [
    {
     "name": "stdout",
     "output_type": "stream",
     "text": [
      "0.6931471805599452\n",
      "0.6596580359598601\n",
      "0.6321925918854083\n",
      "0.6093016034357451\n",
      "0.5899319458465743\n",
      "0.5733189394230738\n",
      "0.5589018401834288\n",
      "0.5462632848236028\n",
      "0.5350873808310196\n",
      "0.5251309497687171\n",
      "0.516203713163226\n",
      "0.5081544957003403\n",
      "0.5008614875718966\n",
      "0.4942252698560666\n",
      "0.4881637438368876\n",
      "0.48260839033448677\n",
      "0.47750147130243487\n",
      "0.4727939083591707\n",
      "0.4684436542390009\n",
      "0.46441442782446984\n",
      "0.4606747206576438\n",
      "0.4571970085158988\n",
      "0.4539571195857856\n",
      "0.4509337234634828\n",
      "0.4481079142957437\n",
      "0.445462867950363\n",
      "0.4429835579141925\n",
      "0.44065651816937285\n",
      "0.43846964394788696\n",
      "0.4364120232582247\n",
      "Train accuracy: 82.41635190694254\n",
      "Test accuracy: 82.58913774326436\n"
     ]
    }
   ],
   "source": [
    "y_predict_train,y_predict_test,costs,w,b=model(x_train,y_train,x_test,y_test,400,0.01)"
   ]
  },
  {
   "cell_type": "code",
   "execution_count": 57,
   "metadata": {
    "colab": {
     "base_uri": "https://localhost:8080/",
     "height": 430
    },
    "id": "2RyEwsBEAAh5",
    "outputId": "9a33f1fe-2026-4f8a-a80d-62fda17e04da"
   },
   "outputs": [],
   "source": [
    "# plt.plot(costs)\n",
    "# plt.show()"
   ]
  },
  {
   "attachments": {
    "06be1675-20c3-44c9-a50f-3c7e556934ec.jpg": {
     "image/jpeg": "[encoded data removed]"
    },
    "fadfdd81-fca7-40fa-83a3-f638d51b74ab.jpg": {
     "image/jpeg": "[encoded data removed]"
    }
   },
   "cell_type": "markdown",
   "metadata": {
    "id": "AmHGbd3YJftu"
   },
   "source": [
    "epoch=400 : \n",
    "            Train accuracy: 81.86064779222515\n",
    "            Test accuracy: 81.99251858516028\n",
    "\n",
    "epoch=600:  \n",
    "            Train accuracy: 82.41635190694254\n",
    "            Test accuracy: 82.58913774326436\n",
    "            \n",
    "Note that there's not any significant difference in the accuracies so 400 is better\n",
    "\n",
    "Also observe that the steepness of both the learning curves is also almost similar\n",
    "\n",
    "600:\n",
    "\n",
    "![WhatsApp Image 2024-05-23 at 19.57.01_957b2328.jpg](attachment:fadfdd81-fca7-40fa-83a3-f638d51b74ab.jpg)\n",
    "\n",
    "400:\n",
    "\n",
    "![WhatsApp Image 2024-05-23 at 20.14.47_7bc73850.jpg](attachment:06be1675-20c3-44c9-a50f-3c7e556934ec.jpg)"
   ]
  },
  {
   "cell_type": "markdown",
   "metadata": {},
   "source": [
    "***Great!***\n",
    "We have our rain predictor ready which will predict whether tomorrow it will rain or not given weather condtions of today in a particular city"
   ]
  },
  {
   "cell_type": "code",
   "execution_count": null,
   "metadata": {},
   "outputs": [],
   "source": []
  }
 ],
 "metadata": {
  "colab": {
   "provenance": [],
   "toc_visible": true
  },
  "kernelspec": {
   "display_name": "Python 3 (ipykernel)",
   "language": "python",
   "name": "python3"
  },
  "language_info": {
   "codemirror_mode": {
    "name": "ipython",
    "version": 3
   },
   "file_extension": ".py",
   "mimetype": "text/x-python",
   "name": "python",
   "nbconvert_exporter": "python",
   "pygments_lexer": "ipython3",
   "version": "3.12.3"
  }
 },
 "nbformat": 4,
 "nbformat_minor": 4
}
